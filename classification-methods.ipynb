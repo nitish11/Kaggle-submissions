{
 "cells": [
  {
   "cell_type": "code",
   "execution_count": 1,
   "metadata": {
    "collapsed": false
   },
   "outputs": [
    {
     "data": {
      "text/plain": [
       "'\\nAuthor : @nitish11\\nProblem : A classification problem based on the contest of Analytics Vidya\\nRef: https://datahack.analyticsvidhya.com/contest/knocktober-2016/\\n'"
      ]
     },
     "execution_count": 1,
     "metadata": {},
     "output_type": "execute_result"
    }
   ],
   "source": [
    "'''\n",
    "Author : @nitish11\n",
    "Problem : A classification problem based on the contest of Analytics Vidya\n",
    "Ref: https://datahack.analyticsvidhya.com/contest/knocktober-2016/\n",
    "'''"
   ]
  },
  {
   "cell_type": "code",
   "execution_count": 2,
   "metadata": {
    "collapsed": false
   },
   "outputs": [
    {
     "name": "stderr",
     "output_type": "stream",
     "text": [
      "/usr/local/lib/python2.7/dist-packages/sklearn/cross_validation.py:44: DeprecationWarning: This module was deprecated in version 0.18 in favor of the model_selection module into which all the refactored classes and functions are moved. Also note that the interface of the new CV iterators are different from that of this module. This module will be removed in 0.20.\n",
      "  \"This module will be removed in 0.20.\", DeprecationWarning)\n",
      "/usr/local/lib/python2.7/dist-packages/sklearn/grid_search.py:43: DeprecationWarning: This module was deprecated in version 0.18 in favor of the model_selection module into which all the refactored classes and functions are moved. This module will be removed in 0.20.\n",
      "  DeprecationWarning)\n"
     ]
    }
   ],
   "source": [
    "import numpy as np\n",
    "import sklearn\n",
    "from sklearn.feature_selection import SelectKBest, f_classif\n",
    "from sklearn import cross_validation\n",
    "from sklearn.ensemble import RandomForestClassifier\n",
    "from sklearn.ensemble import GradientBoostingClassifier\n",
    "from sklearn.linear_model import LogisticRegression\n",
    "from sklearn.linear_model import LinearRegression\n",
    "from sklearn.cross_validation import KFold\n",
    "import pandas as pd\n",
    "import xgboost as xgb\n",
    "from xgboost.sklearn import XGBClassifier\n",
    "from sklearn import cross_validation, metrics   #Additional scklearn functions\n",
    "from sklearn.grid_search import GridSearchCV   #Perforing grid search\n",
    "import cPickle as pickle\n",
    "from sklearn.cross_validation import train_test_split\n",
    "from sklearn.tree import DecisionTreeClassifier\n",
    "from sklearn.metrics import accuracy_score\n",
    "from sklearn.neighbors import KNeighborsClassifier"
   ]
  },
  {
   "cell_type": "code",
   "execution_count": 3,
   "metadata": {
    "collapsed": false
   },
   "outputs": [],
   "source": [
    "#Load data:\n",
    "train = pd.read_csv('Training_final.csv')\n",
    "test = pd.read_csv('Test_final.csv')"
   ]
  },
  {
   "cell_type": "code",
   "execution_count": 4,
   "metadata": {
    "collapsed": false
   },
   "outputs": [
    {
     "data": {
      "text/plain": [
       "((75278, 20), (35249, 19))"
      ]
     },
     "execution_count": 4,
     "metadata": {},
     "output_type": "execute_result"
    }
   ],
   "source": [
    "train.shape, test.shape"
   ]
  },
  {
   "cell_type": "code",
   "execution_count": 5,
   "metadata": {
    "collapsed": false
   },
   "outputs": [
    {
     "data": {
      "text/plain": [
       "Patient_ID             int64\n",
       "Health_Camp_ID         int64\n",
       "Var1                   int64\n",
       "Var2                   int64\n",
       "Var3                   int64\n",
       "Var4                   int64\n",
       "Var5                   int64\n",
       "Category1              int64\n",
       "Category2              int64\n",
       "Category3              int64\n",
       "Outcome              float64\n",
       "Online_Follower        int64\n",
       "LinkedIn_Shared        int64\n",
       "Twitter_Shared         int64\n",
       "Facebook_Shared        int64\n",
       "Income               float64\n",
       "Education_Score      float64\n",
       "Age                  float64\n",
       "City_Type            float64\n",
       "Employer_Category    float64\n",
       "dtype: object"
      ]
     },
     "execution_count": 5,
     "metadata": {},
     "output_type": "execute_result"
    }
   ],
   "source": [
    "train.dtypes\n"
   ]
  },
  {
   "cell_type": "code",
   "execution_count": 6,
   "metadata": {
    "collapsed": false
   },
   "outputs": [
    {
     "data": {
      "text/plain": [
       "(110527, 21)"
      ]
     },
     "execution_count": 6,
     "metadata": {},
     "output_type": "execute_result"
    }
   ],
   "source": [
    "#Combine into data:\n",
    "train['source']= 'train'\n",
    "test['source'] = 'test'\n",
    "data=pd.concat([train, test],ignore_index=True)\n",
    "data.shape"
   ]
  },
  {
   "cell_type": "code",
   "execution_count": 7,
   "metadata": {
    "collapsed": false
   },
   "outputs": [
    {
     "data": {
      "text/plain": [
       "Age                  77925\n",
       "Category1                0\n",
       "Category2                0\n",
       "Category3                0\n",
       "City_Type            46602\n",
       "Education_Score      98167\n",
       "Employer_Category    90963\n",
       "Facebook_Shared          0\n",
       "Health_Camp_ID           0\n",
       "Income               81342\n",
       "LinkedIn_Shared          0\n",
       "Online_Follower          0\n",
       "Outcome              35249\n",
       "Patient_ID               0\n",
       "Twitter_Shared           0\n",
       "Var1                     0\n",
       "Var2                     0\n",
       "Var3                     0\n",
       "Var4                     0\n",
       "Var5                     0\n",
       "source                   0\n",
       "dtype: int64"
      ]
     },
     "execution_count": 7,
     "metadata": {},
     "output_type": "execute_result"
    }
   ],
   "source": [
    "data.apply(lambda x: sum(x.isnull()))"
   ]
  },
  {
   "cell_type": "code",
   "execution_count": 8,
   "metadata": {
    "collapsed": false
   },
   "outputs": [],
   "source": [
    "#Majority values missing so I'll create a new variable stating whether this is missing or not:\n",
    "data['City_Type'] = data['City_Type'].fillna(10)\n",
    "\n",
    "#Inpute by median \n",
    "data['Age'].fillna(data['Age'].median(),inplace=True)\n",
    "data['Income'].fillna(data['Income'].median(),inplace=True)\n"
   ]
  },
  {
   "cell_type": "code",
   "execution_count": 9,
   "metadata": {
    "collapsed": false
   },
   "outputs": [],
   "source": [
    "#dropping one where most are empty.\n",
    "\n",
    "data.drop('Education_Score',axis=1,inplace=True)\n",
    "data.drop('Employer_Category',axis=1,inplace=True)\n"
   ]
  },
  {
   "cell_type": "code",
   "execution_count": 10,
   "metadata": {
    "collapsed": false
   },
   "outputs": [
    {
     "data": {
      "text/html": [
       "<div style=\"max-height:1000px;max-width:1500px;overflow:auto;\">\n",
       "<table border=\"1\" class=\"dataframe\">\n",
       "  <thead>\n",
       "    <tr style=\"text-align: right;\">\n",
       "      <th></th>\n",
       "      <th>Age</th>\n",
       "      <th>Category1</th>\n",
       "      <th>Category2</th>\n",
       "      <th>Category3</th>\n",
       "      <th>City_Type</th>\n",
       "      <th>Facebook_Shared</th>\n",
       "      <th>Health_Camp_ID</th>\n",
       "      <th>Income</th>\n",
       "      <th>LinkedIn_Shared</th>\n",
       "      <th>Online_Follower</th>\n",
       "      <th>Outcome</th>\n",
       "      <th>Patient_ID</th>\n",
       "      <th>Twitter_Shared</th>\n",
       "      <th>Var1</th>\n",
       "      <th>Var2</th>\n",
       "      <th>Var3</th>\n",
       "      <th>Var4</th>\n",
       "      <th>Var5</th>\n",
       "    </tr>\n",
       "  </thead>\n",
       "  <tbody>\n",
       "    <tr>\n",
       "      <th>count</th>\n",
       "      <td> 110527.000000</td>\n",
       "      <td> 110527.000000</td>\n",
       "      <td> 110527.000000</td>\n",
       "      <td> 110527.000000</td>\n",
       "      <td> 110527.000000</td>\n",
       "      <td> 110527.000000</td>\n",
       "      <td> 110527.000000</td>\n",
       "      <td> 110527.000000</td>\n",
       "      <td> 110527.000000</td>\n",
       "      <td> 110527.000000</td>\n",
       "      <td> 75278.000000</td>\n",
       "      <td> 110527.000000</td>\n",
       "      <td> 110527.000000</td>\n",
       "      <td> 110527.000000</td>\n",
       "      <td> 110527.000000</td>\n",
       "      <td> 110527.000000</td>\n",
       "      <td> 110527.000000</td>\n",
       "      <td> 110527.000000</td>\n",
       "    </tr>\n",
       "    <tr>\n",
       "      <th>mean</th>\n",
       "      <td>     45.241452</td>\n",
       "      <td>      0.637283</td>\n",
       "      <td>      3.763035</td>\n",
       "      <td>      1.996318</td>\n",
       "      <td>      6.403576</td>\n",
       "      <td>      0.053933</td>\n",
       "      <td>   6554.155238</td>\n",
       "      <td>      1.059216</td>\n",
       "      <td>      0.063451</td>\n",
       "      <td>      0.054521</td>\n",
       "      <td>     0.272776</td>\n",
       "      <td> 507165.587956</td>\n",
       "      <td>      0.051354</td>\n",
       "      <td>      0.803505</td>\n",
       "      <td>      0.243262</td>\n",
       "      <td>      0.000443</td>\n",
       "      <td>      0.028617</td>\n",
       "      <td>      0.251504</td>\n",
       "    </tr>\n",
       "    <tr>\n",
       "      <th>std</th>\n",
       "      <td>      6.777901</td>\n",
       "      <td>      0.785540</td>\n",
       "      <td>      2.022261</td>\n",
       "      <td>      0.060571</td>\n",
       "      <td>      3.655189</td>\n",
       "      <td>      0.225886</td>\n",
       "      <td>     20.012530</td>\n",
       "      <td>      0.715125</td>\n",
       "      <td>      0.243773</td>\n",
       "      <td>      0.227043</td>\n",
       "      <td>     0.445389</td>\n",
       "      <td>  12428.699297</td>\n",
       "      <td>      0.220720</td>\n",
       "      <td>      7.847266</td>\n",
       "      <td>      3.839489</td>\n",
       "      <td>      0.021051</td>\n",
       "      <td>      0.224176</td>\n",
       "      <td>      1.245794</td>\n",
       "    </tr>\n",
       "    <tr>\n",
       "      <th>min</th>\n",
       "      <td>     30.000000</td>\n",
       "      <td>      0.000000</td>\n",
       "      <td>      0.000000</td>\n",
       "      <td>      1.000000</td>\n",
       "      <td>      0.000000</td>\n",
       "      <td>      0.000000</td>\n",
       "      <td>   6523.000000</td>\n",
       "      <td>      0.000000</td>\n",
       "      <td>      0.000000</td>\n",
       "      <td>      0.000000</td>\n",
       "      <td>     0.000000</td>\n",
       "      <td> 485678.000000</td>\n",
       "      <td>      0.000000</td>\n",
       "      <td>      0.000000</td>\n",
       "      <td>      0.000000</td>\n",
       "      <td>      0.000000</td>\n",
       "      <td>      0.000000</td>\n",
       "      <td>      0.000000</td>\n",
       "    </tr>\n",
       "    <tr>\n",
       "      <th>25%</th>\n",
       "      <td>     44.000000</td>\n",
       "      <td>      0.000000</td>\n",
       "      <td>      3.000000</td>\n",
       "      <td>      2.000000</td>\n",
       "      <td>      3.000000</td>\n",
       "      <td>      0.000000</td>\n",
       "      <td>   6537.000000</td>\n",
       "      <td>      1.000000</td>\n",
       "      <td>      0.000000</td>\n",
       "      <td>      0.000000</td>\n",
       "      <td>     0.000000</td>\n",
       "      <td> 496392.500000</td>\n",
       "      <td>      0.000000</td>\n",
       "      <td>      0.000000</td>\n",
       "      <td>      0.000000</td>\n",
       "      <td>      0.000000</td>\n",
       "      <td>      0.000000</td>\n",
       "      <td>      0.000000</td>\n",
       "    </tr>\n",
       "    <tr>\n",
       "      <th>50%</th>\n",
       "      <td>     44.000000</td>\n",
       "      <td>      0.000000</td>\n",
       "      <td>      4.000000</td>\n",
       "      <td>      2.000000</td>\n",
       "      <td>      7.000000</td>\n",
       "      <td>      0.000000</td>\n",
       "      <td>   6551.000000</td>\n",
       "      <td>      1.000000</td>\n",
       "      <td>      0.000000</td>\n",
       "      <td>      0.000000</td>\n",
       "      <td>     0.000000</td>\n",
       "      <td> 507203.000000</td>\n",
       "      <td>      0.000000</td>\n",
       "      <td>      0.000000</td>\n",
       "      <td>      0.000000</td>\n",
       "      <td>      0.000000</td>\n",
       "      <td>      0.000000</td>\n",
       "      <td>      0.000000</td>\n",
       "    </tr>\n",
       "    <tr>\n",
       "      <th>75%</th>\n",
       "      <td>     44.000000</td>\n",
       "      <td>      1.000000</td>\n",
       "      <td>      5.000000</td>\n",
       "      <td>      2.000000</td>\n",
       "      <td>     10.000000</td>\n",
       "      <td>      0.000000</td>\n",
       "      <td>   6574.000000</td>\n",
       "      <td>      1.000000</td>\n",
       "      <td>      0.000000</td>\n",
       "      <td>      0.000000</td>\n",
       "      <td>     1.000000</td>\n",
       "      <td> 517915.000000</td>\n",
       "      <td>      0.000000</td>\n",
       "      <td>      0.000000</td>\n",
       "      <td>      0.000000</td>\n",
       "      <td>      0.000000</td>\n",
       "      <td>      0.000000</td>\n",
       "      <td>      0.000000</td>\n",
       "    </tr>\n",
       "    <tr>\n",
       "      <th>max</th>\n",
       "      <td>     80.000000</td>\n",
       "      <td>      2.000000</td>\n",
       "      <td>      6.000000</td>\n",
       "      <td>      2.000000</td>\n",
       "      <td>     10.000000</td>\n",
       "      <td>      1.000000</td>\n",
       "      <td>   6587.000000</td>\n",
       "      <td>      6.000000</td>\n",
       "      <td>      1.000000</td>\n",
       "      <td>      1.000000</td>\n",
       "      <td>     1.000000</td>\n",
       "      <td> 528657.000000</td>\n",
       "      <td>      1.000000</td>\n",
       "      <td>    344.000000</td>\n",
       "      <td>    181.000000</td>\n",
       "      <td>      1.000000</td>\n",
       "      <td>      8.000000</td>\n",
       "      <td>     34.000000</td>\n",
       "    </tr>\n",
       "  </tbody>\n",
       "</table>\n",
       "<p>8 rows × 18 columns</p>\n",
       "</div>"
      ],
      "text/plain": [
       "                 Age      Category1      Category2      Category3  \\\n",
       "count  110527.000000  110527.000000  110527.000000  110527.000000   \n",
       "mean       45.241452       0.637283       3.763035       1.996318   \n",
       "std         6.777901       0.785540       2.022261       0.060571   \n",
       "min        30.000000       0.000000       0.000000       1.000000   \n",
       "25%        44.000000       0.000000       3.000000       2.000000   \n",
       "50%        44.000000       0.000000       4.000000       2.000000   \n",
       "75%        44.000000       1.000000       5.000000       2.000000   \n",
       "max        80.000000       2.000000       6.000000       2.000000   \n",
       "\n",
       "           City_Type  Facebook_Shared  Health_Camp_ID         Income  \\\n",
       "count  110527.000000    110527.000000   110527.000000  110527.000000   \n",
       "mean        6.403576         0.053933     6554.155238       1.059216   \n",
       "std         3.655189         0.225886       20.012530       0.715125   \n",
       "min         0.000000         0.000000     6523.000000       0.000000   \n",
       "25%         3.000000         0.000000     6537.000000       1.000000   \n",
       "50%         7.000000         0.000000     6551.000000       1.000000   \n",
       "75%        10.000000         0.000000     6574.000000       1.000000   \n",
       "max        10.000000         1.000000     6587.000000       6.000000   \n",
       "\n",
       "       LinkedIn_Shared  Online_Follower       Outcome     Patient_ID  \\\n",
       "count    110527.000000    110527.000000  75278.000000  110527.000000   \n",
       "mean          0.063451         0.054521      0.272776  507165.587956   \n",
       "std           0.243773         0.227043      0.445389   12428.699297   \n",
       "min           0.000000         0.000000      0.000000  485678.000000   \n",
       "25%           0.000000         0.000000      0.000000  496392.500000   \n",
       "50%           0.000000         0.000000      0.000000  507203.000000   \n",
       "75%           0.000000         0.000000      1.000000  517915.000000   \n",
       "max           1.000000         1.000000      1.000000  528657.000000   \n",
       "\n",
       "       Twitter_Shared           Var1           Var2           Var3  \\\n",
       "count   110527.000000  110527.000000  110527.000000  110527.000000   \n",
       "mean         0.051354       0.803505       0.243262       0.000443   \n",
       "std          0.220720       7.847266       3.839489       0.021051   \n",
       "min          0.000000       0.000000       0.000000       0.000000   \n",
       "25%          0.000000       0.000000       0.000000       0.000000   \n",
       "50%          0.000000       0.000000       0.000000       0.000000   \n",
       "75%          0.000000       0.000000       0.000000       0.000000   \n",
       "max          1.000000     344.000000     181.000000       1.000000   \n",
       "\n",
       "                Var4           Var5  \n",
       "count  110527.000000  110527.000000  \n",
       "mean        0.028617       0.251504  \n",
       "std         0.224176       1.245794  \n",
       "min         0.000000       0.000000  \n",
       "25%         0.000000       0.000000  \n",
       "50%         0.000000       0.000000  \n",
       "75%         0.000000       0.000000  \n",
       "max         8.000000      34.000000  \n",
       "\n",
       "[8 rows x 18 columns]"
      ]
     },
     "execution_count": 10,
     "metadata": {},
     "output_type": "execute_result"
    }
   ],
   "source": [
    "data.describe()"
   ]
  },
  {
   "cell_type": "code",
   "execution_count": 11,
   "metadata": {
    "collapsed": false
   },
   "outputs": [],
   "source": [
    "#Extra dropping which boosted perfomance\n",
    "\n",
    "data.drop('City_Type',axis=1,inplace=True)\n",
    "#data.drop('Age',axis=1,inplace=True)\n",
    "#data.drop('Income',axis=1,inplace=True)"
   ]
  },
  {
   "cell_type": "code",
   "execution_count": 12,
   "metadata": {
    "collapsed": false
   },
   "outputs": [
    {
     "data": {
      "text/html": [
       "<div style=\"max-height:1000px;max-width:1500px;overflow:auto;\">\n",
       "<table border=\"1\" class=\"dataframe\">\n",
       "  <thead>\n",
       "    <tr style=\"text-align: right;\">\n",
       "      <th></th>\n",
       "      <th>Age</th>\n",
       "      <th>Category1</th>\n",
       "      <th>Category2</th>\n",
       "      <th>Category3</th>\n",
       "      <th>Facebook_Shared</th>\n",
       "      <th>Health_Camp_ID</th>\n",
       "      <th>Income</th>\n",
       "      <th>LinkedIn_Shared</th>\n",
       "      <th>Online_Follower</th>\n",
       "      <th>Outcome</th>\n",
       "      <th>Patient_ID</th>\n",
       "      <th>Twitter_Shared</th>\n",
       "      <th>Var1</th>\n",
       "      <th>Var2</th>\n",
       "      <th>Var3</th>\n",
       "      <th>Var4</th>\n",
       "      <th>Var5</th>\n",
       "    </tr>\n",
       "  </thead>\n",
       "  <tbody>\n",
       "    <tr>\n",
       "      <th>count</th>\n",
       "      <td> 110527.000000</td>\n",
       "      <td> 110527.000000</td>\n",
       "      <td> 110527.000000</td>\n",
       "      <td> 110527.000000</td>\n",
       "      <td> 110527.000000</td>\n",
       "      <td> 110527.000000</td>\n",
       "      <td> 110527.000000</td>\n",
       "      <td> 110527.000000</td>\n",
       "      <td> 110527.000000</td>\n",
       "      <td> 75278.000000</td>\n",
       "      <td> 110527.000000</td>\n",
       "      <td> 110527.000000</td>\n",
       "      <td> 110527.000000</td>\n",
       "      <td> 110527.000000</td>\n",
       "      <td> 110527.000000</td>\n",
       "      <td> 110527.000000</td>\n",
       "      <td> 110527.000000</td>\n",
       "    </tr>\n",
       "    <tr>\n",
       "      <th>mean</th>\n",
       "      <td>     45.241452</td>\n",
       "      <td>      0.637283</td>\n",
       "      <td>      3.763035</td>\n",
       "      <td>      1.996318</td>\n",
       "      <td>      0.053933</td>\n",
       "      <td>   6554.155238</td>\n",
       "      <td>      1.059216</td>\n",
       "      <td>      0.063451</td>\n",
       "      <td>      0.054521</td>\n",
       "      <td>     0.272776</td>\n",
       "      <td> 507165.587956</td>\n",
       "      <td>      0.051354</td>\n",
       "      <td>      0.803505</td>\n",
       "      <td>      0.243262</td>\n",
       "      <td>      0.000443</td>\n",
       "      <td>      0.028617</td>\n",
       "      <td>      0.251504</td>\n",
       "    </tr>\n",
       "    <tr>\n",
       "      <th>std</th>\n",
       "      <td>      6.777901</td>\n",
       "      <td>      0.785540</td>\n",
       "      <td>      2.022261</td>\n",
       "      <td>      0.060571</td>\n",
       "      <td>      0.225886</td>\n",
       "      <td>     20.012530</td>\n",
       "      <td>      0.715125</td>\n",
       "      <td>      0.243773</td>\n",
       "      <td>      0.227043</td>\n",
       "      <td>     0.445389</td>\n",
       "      <td>  12428.699297</td>\n",
       "      <td>      0.220720</td>\n",
       "      <td>      7.847266</td>\n",
       "      <td>      3.839489</td>\n",
       "      <td>      0.021051</td>\n",
       "      <td>      0.224176</td>\n",
       "      <td>      1.245794</td>\n",
       "    </tr>\n",
       "    <tr>\n",
       "      <th>min</th>\n",
       "      <td>     30.000000</td>\n",
       "      <td>      0.000000</td>\n",
       "      <td>      0.000000</td>\n",
       "      <td>      1.000000</td>\n",
       "      <td>      0.000000</td>\n",
       "      <td>   6523.000000</td>\n",
       "      <td>      0.000000</td>\n",
       "      <td>      0.000000</td>\n",
       "      <td>      0.000000</td>\n",
       "      <td>     0.000000</td>\n",
       "      <td> 485678.000000</td>\n",
       "      <td>      0.000000</td>\n",
       "      <td>      0.000000</td>\n",
       "      <td>      0.000000</td>\n",
       "      <td>      0.000000</td>\n",
       "      <td>      0.000000</td>\n",
       "      <td>      0.000000</td>\n",
       "    </tr>\n",
       "    <tr>\n",
       "      <th>25%</th>\n",
       "      <td>     44.000000</td>\n",
       "      <td>      0.000000</td>\n",
       "      <td>      3.000000</td>\n",
       "      <td>      2.000000</td>\n",
       "      <td>      0.000000</td>\n",
       "      <td>   6537.000000</td>\n",
       "      <td>      1.000000</td>\n",
       "      <td>      0.000000</td>\n",
       "      <td>      0.000000</td>\n",
       "      <td>     0.000000</td>\n",
       "      <td> 496392.500000</td>\n",
       "      <td>      0.000000</td>\n",
       "      <td>      0.000000</td>\n",
       "      <td>      0.000000</td>\n",
       "      <td>      0.000000</td>\n",
       "      <td>      0.000000</td>\n",
       "      <td>      0.000000</td>\n",
       "    </tr>\n",
       "    <tr>\n",
       "      <th>50%</th>\n",
       "      <td>     44.000000</td>\n",
       "      <td>      0.000000</td>\n",
       "      <td>      4.000000</td>\n",
       "      <td>      2.000000</td>\n",
       "      <td>      0.000000</td>\n",
       "      <td>   6551.000000</td>\n",
       "      <td>      1.000000</td>\n",
       "      <td>      0.000000</td>\n",
       "      <td>      0.000000</td>\n",
       "      <td>     0.000000</td>\n",
       "      <td> 507203.000000</td>\n",
       "      <td>      0.000000</td>\n",
       "      <td>      0.000000</td>\n",
       "      <td>      0.000000</td>\n",
       "      <td>      0.000000</td>\n",
       "      <td>      0.000000</td>\n",
       "      <td>      0.000000</td>\n",
       "    </tr>\n",
       "    <tr>\n",
       "      <th>75%</th>\n",
       "      <td>     44.000000</td>\n",
       "      <td>      1.000000</td>\n",
       "      <td>      5.000000</td>\n",
       "      <td>      2.000000</td>\n",
       "      <td>      0.000000</td>\n",
       "      <td>   6574.000000</td>\n",
       "      <td>      1.000000</td>\n",
       "      <td>      0.000000</td>\n",
       "      <td>      0.000000</td>\n",
       "      <td>     1.000000</td>\n",
       "      <td> 517915.000000</td>\n",
       "      <td>      0.000000</td>\n",
       "      <td>      0.000000</td>\n",
       "      <td>      0.000000</td>\n",
       "      <td>      0.000000</td>\n",
       "      <td>      0.000000</td>\n",
       "      <td>      0.000000</td>\n",
       "    </tr>\n",
       "    <tr>\n",
       "      <th>max</th>\n",
       "      <td>     80.000000</td>\n",
       "      <td>      2.000000</td>\n",
       "      <td>      6.000000</td>\n",
       "      <td>      2.000000</td>\n",
       "      <td>      1.000000</td>\n",
       "      <td>   6587.000000</td>\n",
       "      <td>      6.000000</td>\n",
       "      <td>      1.000000</td>\n",
       "      <td>      1.000000</td>\n",
       "      <td>     1.000000</td>\n",
       "      <td> 528657.000000</td>\n",
       "      <td>      1.000000</td>\n",
       "      <td>    344.000000</td>\n",
       "      <td>    181.000000</td>\n",
       "      <td>      1.000000</td>\n",
       "      <td>      8.000000</td>\n",
       "      <td>     34.000000</td>\n",
       "    </tr>\n",
       "  </tbody>\n",
       "</table>\n",
       "<p>8 rows × 17 columns</p>\n",
       "</div>"
      ],
      "text/plain": [
       "                 Age      Category1      Category2      Category3  \\\n",
       "count  110527.000000  110527.000000  110527.000000  110527.000000   \n",
       "mean       45.241452       0.637283       3.763035       1.996318   \n",
       "std         6.777901       0.785540       2.022261       0.060571   \n",
       "min        30.000000       0.000000       0.000000       1.000000   \n",
       "25%        44.000000       0.000000       3.000000       2.000000   \n",
       "50%        44.000000       0.000000       4.000000       2.000000   \n",
       "75%        44.000000       1.000000       5.000000       2.000000   \n",
       "max        80.000000       2.000000       6.000000       2.000000   \n",
       "\n",
       "       Facebook_Shared  Health_Camp_ID         Income  LinkedIn_Shared  \\\n",
       "count    110527.000000   110527.000000  110527.000000    110527.000000   \n",
       "mean          0.053933     6554.155238       1.059216         0.063451   \n",
       "std           0.225886       20.012530       0.715125         0.243773   \n",
       "min           0.000000     6523.000000       0.000000         0.000000   \n",
       "25%           0.000000     6537.000000       1.000000         0.000000   \n",
       "50%           0.000000     6551.000000       1.000000         0.000000   \n",
       "75%           0.000000     6574.000000       1.000000         0.000000   \n",
       "max           1.000000     6587.000000       6.000000         1.000000   \n",
       "\n",
       "       Online_Follower       Outcome     Patient_ID  Twitter_Shared  \\\n",
       "count    110527.000000  75278.000000  110527.000000   110527.000000   \n",
       "mean          0.054521      0.272776  507165.587956        0.051354   \n",
       "std           0.227043      0.445389   12428.699297        0.220720   \n",
       "min           0.000000      0.000000  485678.000000        0.000000   \n",
       "25%           0.000000      0.000000  496392.500000        0.000000   \n",
       "50%           0.000000      0.000000  507203.000000        0.000000   \n",
       "75%           0.000000      1.000000  517915.000000        0.000000   \n",
       "max           1.000000      1.000000  528657.000000        1.000000   \n",
       "\n",
       "                Var1           Var2           Var3           Var4  \\\n",
       "count  110527.000000  110527.000000  110527.000000  110527.000000   \n",
       "mean        0.803505       0.243262       0.000443       0.028617   \n",
       "std         7.847266       3.839489       0.021051       0.224176   \n",
       "min         0.000000       0.000000       0.000000       0.000000   \n",
       "25%         0.000000       0.000000       0.000000       0.000000   \n",
       "50%         0.000000       0.000000       0.000000       0.000000   \n",
       "75%         0.000000       0.000000       0.000000       0.000000   \n",
       "max       344.000000     181.000000       1.000000       8.000000   \n",
       "\n",
       "                Var5  \n",
       "count  110527.000000  \n",
       "mean        0.251504  \n",
       "std         1.245794  \n",
       "min         0.000000  \n",
       "25%         0.000000  \n",
       "50%         0.000000  \n",
       "75%         0.000000  \n",
       "max        34.000000  \n",
       "\n",
       "[8 rows x 17 columns]"
      ]
     },
     "execution_count": 12,
     "metadata": {},
     "output_type": "execute_result"
    }
   ],
   "source": [
    "data.describe()"
   ]
  },
  {
   "cell_type": "code",
   "execution_count": 13,
   "metadata": {
    "collapsed": false
   },
   "outputs": [
    {
     "name": "stderr",
     "output_type": "stream",
     "text": [
      "/usr/local/lib/python2.7/dist-packages/ipykernel/__main__.py:6: SettingWithCopyWarning: A value is trying to be set on a copy of a slice from a DataFrame\n",
      "/usr/local/lib/python2.7/dist-packages/ipykernel/__main__.py:7: SettingWithCopyWarning: A value is trying to be set on a copy of a slice from a DataFrame\n"
     ]
    }
   ],
   "source": [
    "#Separate train & test:\n",
    "\n",
    "train = data.loc[data['source']=='train']\n",
    "test = data.loc[data['source']=='test']\n",
    "\n",
    "train.drop('source',axis=1,inplace=True)\n",
    "test.drop(['source','Outcome'],axis=1,inplace=True)\n",
    "\n",
    "train.to_csv('train_modified.csv',index=False)\n",
    "test.to_csv('test_modified.csv',index=False)\n"
   ]
  },
  {
   "cell_type": "code",
   "execution_count": 14,
   "metadata": {
    "collapsed": false
   },
   "outputs": [],
   "source": [
    "train_data = pd.read_csv('train_modified.csv')\n",
    "test_data = pd.read_csv('test_modified.csv')\n",
    "\n",
    "\n",
    "predictors = ['Online_Follower','Age', 'Income','Twitter_Shared','Var1','Var2','Var4','Var5','Category1','Category2','Facebook_Shared','LinkedIn_Shared']\n",
    "x_train, x_test, y_train, y_test = train_test_split(train_data[predictors],train_data[\"Outcome\"], test_size=.01)"
   ]
  },
  {
   "cell_type": "code",
   "execution_count": 15,
   "metadata": {
    "collapsed": false
   },
   "outputs": [
    {
     "name": "stdout",
     "output_type": "stream",
     "text": [
      "------------------------------\n",
      "Decision Tree Classifier\n",
      "0.771580345286\n",
      "------------------------------\n",
      "Preiction using decision_tree_classifier\n"
     ]
    }
   ],
   "source": [
    "print('-'*30)\n",
    "print('Decision Tree Classifier')\n",
    "decison_tree_classifier = DecisionTreeClassifier()\n",
    "#Training Classifier, Prediction and Accuracy Calculation\n",
    "decison_tree_classifier.fit(x_train, y_train)\n",
    "pickle.dump(decison_tree_classifier,open('decision_tree_classifier.p','wb'))\n",
    "predictions = decison_tree_classifier.predict(x_test) \n",
    "print accuracy_score(y_test,predictions)\n",
    "\n",
    "print('-'*30)\n",
    "print('Preiction using decision_tree_classifier')\n",
    "# Make predictions using the test set.\n",
    "predictions = decison_tree_classifier.predict(test_data[predictors])\n",
    "\n",
    "submission = pd.DataFrame({\n",
    "        \"Patient_ID\": test_data[\"Patient_ID\"],\n",
    "        \"Health_Camp_ID\": test_data[\"Health_Camp_ID\"],\n",
    "        \"Outcome\": predictions\n",
    "    })\n",
    "submission.to_csv('decision_tree.csv',index=False)"
   ]
  },
  {
   "cell_type": "code",
   "execution_count": 16,
   "metadata": {
    "collapsed": false
   },
   "outputs": [
    {
     "name": "stdout",
     "output_type": "stream",
     "text": [
      "------------------------------\n",
      "GradientBoostingClassifier\n",
      "0.746579771446\n",
      "------------------------------\n",
      "Prediction using gradient_boosting_model\n"
     ]
    }
   ],
   "source": [
    "print('-'*30)\n",
    "print('GradientBoostingClassifier')\n",
    "alg_gradient_boosting_classifier = GradientBoostingClassifier(random_state=1, n_estimators=25, max_depth=3)\n",
    "alg_gradient_boosting_classifier.fit(train_data[predictors], train_data['Outcome'])\n",
    "scores=cross_validation.cross_val_score(alg_gradient_boosting_classifier,train_data[predictors],train_data[\"Outcome\"],cv=3)\n",
    "print(scores.mean())\n",
    "pickle.dump(alg_gradient_boosting_classifier,open('gradient_boosting_model.p','wb'))\n",
    "\n",
    "print('-'*30)\n",
    "print('Prediction using gradient_boosting_model')\n",
    "predictions = alg_gradient_boosting_classifier.predict(test_data[predictors])\n",
    "\n",
    "submission = pd.DataFrame({\n",
    "        \"Patient_ID\": test_data[\"Patient_ID\"],\n",
    "        \"Health_Camp_ID\": test_data[\"Health_Camp_ID\"],\n",
    "        \"Outcome\": predictions\n",
    "    })\n",
    "submission.to_csv('gradient_boosting.csv',index=False)"
   ]
  },
  {
   "cell_type": "code",
   "execution_count": 17,
   "metadata": {
    "collapsed": false
   },
   "outputs": [
    {
     "name": "stdout",
     "output_type": "stream",
     "text": [
      "------------------------------\n",
      "RandomForestClassifier\n",
      "0.745384098726\n",
      "------------------------------\n",
      "Prediction using random_forest_model\n"
     ]
    }
   ],
   "source": [
    "print('-'*30)\n",
    "print('RandomForestClassifier')\n",
    "alg_random_classifier = RandomForestClassifier(random_state=1, n_estimators=25, max_depth=3)\n",
    "alg_random_classifier.fit(train_data[predictors], train_data['Outcome'])\n",
    "scores=cross_validation.cross_val_score(alg_random_classifier,train_data[predictors],train_data[\"Outcome\"],cv=3)\n",
    "print(scores.mean())\n",
    "pickle.dump(alg_random_classifier,open('random_forest_model.p','wb'))\n",
    "\n",
    "print('-'*30)\n",
    "print('Prediction using random_forest_model')\n",
    "predictions = alg_random_classifier.predict(test_data[predictors])\n",
    "\n",
    "submission = pd.DataFrame({\n",
    "        \"Patient_ID\": test_data[\"Patient_ID\"],\n",
    "        \"Health_Camp_ID\": test_data[\"Health_Camp_ID\"],\n",
    "        \"Outcome\": predictions\n",
    "    })\n",
    "submission.to_csv('random_forest.csv',index=False)"
   ]
  },
  {
   "cell_type": "code",
   "execution_count": 18,
   "metadata": {
    "collapsed": false
   },
   "outputs": [
    {
     "name": "stdout",
     "output_type": "stream",
     "text": [
      "------------------------------\n",
      "XGBClassifier\n",
      "0.744694973053\n",
      "------------------------------\n",
      "Prediction using xgb_classifier_model\n"
     ]
    }
   ],
   "source": [
    "print('-'*30)\n",
    "from xgboost.sklearn import XGBClassifier\n",
    "print('XGBClassifier')\n",
    "xgb_classifier = XGBClassifier(n_estimators=300, max_depth=5)\n",
    "xgb_classifier.fit(train_data[predictors], train_data['Outcome'])\n",
    "scores=cross_validation.cross_val_score(xgb_classifier,train_data[predictors],train_data[\"Outcome\"],cv=5)\n",
    "print(scores.mean())\n",
    "pickle.dump(xgb_classifier,open('xgb_classifier.p','wb'))\n",
    "\n",
    "print('-'*30)\n",
    "print('Prediction using xgb_classifier_model')\n",
    "predictions = xgb_classifier.predict(test_data[predictors])\n",
    "\n",
    "submission = pd.DataFrame({\n",
    "        \"Patient_ID\": test_data[\"Patient_ID\"],\n",
    "        \"Health_Camp_ID\": test_data[\"Health_Camp_ID\"],\n",
    "        \"Outcome\": predictions\n",
    "    })\n",
    "submission.to_csv('xgb_classifier.csv',index=False)"
   ]
  },
  {
   "cell_type": "code",
   "execution_count": 19,
   "metadata": {
    "collapsed": false
   },
   "outputs": [
    {
     "name": "stdout",
     "output_type": "stream",
     "text": [
      "------------------------------\n",
      "SVM outputs\n",
      "Classification report for classifier SVC(C=1.0, cache_size=200, class_weight=None, coef0=0.0,\n",
      "  decision_function_shape=None, degree=3, gamma=0.001, kernel='rbf',\n",
      "  max_iter=-1, probability=False, random_state=None, shrinking=True,\n",
      "  tol=0.001, verbose=False):\n",
      "             precision    recall  f1-score   support\n",
      "\n",
      "        0.0       0.82      0.91      0.87       562\n",
      "        1.0       0.63      0.43      0.51       191\n",
      "\n",
      "avg / total       0.77      0.79      0.78       753\n",
      "\n",
      "\n",
      "Confusion matrix:\n",
      "[[513  49]\n",
      " [109  82]]\n",
      "------------------------------\n",
      "Prediction using SVM_model\n"
     ]
    }
   ],
   "source": [
    "########### SVM Classifier and Accuracy Calculation ###########\n",
    "\n",
    "print('-'*30)\n",
    "print('SVM outputs')\n",
    "from sklearn import svm, metrics\n",
    "# Create a classifier: a support vector classifier\n",
    "classifier = svm.SVC(gamma=0.001)\n",
    "classifier.fit(x_train, y_train)\n",
    "pickle.dump(classifier,open('svm_classifier.p','wb'))\n",
    "\n",
    "expected = y_test\n",
    "predicted = classifier.predict(x_test)\n",
    "print(\"Classification report for classifier %s:\\n%s\\n\"\n",
    "      % (classifier, metrics.classification_report(expected, predicted)))\n",
    "print(\"Confusion matrix:\\n%s\" % metrics.confusion_matrix(expected, predicted))\n",
    "\n",
    "print('-'*30)\n",
    "print('Prediction using SVM_model')\n",
    "predictions = classifier.predict(test_data[predictors])\n",
    "\n",
    "submission = pd.DataFrame({\n",
    "        \"Patient_ID\": test_data[\"Patient_ID\"],\n",
    "        \"Health_Camp_ID\": test_data[\"Health_Camp_ID\"],\n",
    "        \"Outcome\": predictions\n",
    "    })\n",
    "submission.to_csv('svm_output.csv',index=False)"
   ]
  },
  {
   "cell_type": "markdown",
   "metadata": {},
   "source": [
    "## XGB using xgboost\n",
    "\n",
    "Reference : https://www.analyticsvidhya.com/blog/2016/03/complete-guide-parameter-tuning-xgboost-with-codes-python/"
   ]
  },
  {
   "cell_type": "code",
   "execution_count": 20,
   "metadata": {
    "collapsed": true
   },
   "outputs": [],
   "source": [
    "import matplotlib.pylab as plt\n",
    "%matplotlib inline\n",
    "from matplotlib.pylab import rcParams\n",
    "rcParams['figure.figsize'] = 12, 4\n",
    "\n",
    "target = 'Outcome'\n",
    "test_results = pd.read_csv('test_results.csv')"
   ]
  },
  {
   "cell_type": "code",
   "execution_count": 21,
   "metadata": {
    "collapsed": false
   },
   "outputs": [],
   "source": [
    "def modelfit(alg, dtrain, dtest, predictors,useTrainCV=True, cv_folds=5, early_stopping_rounds=50):\n",
    "    \n",
    "    if useTrainCV:\n",
    "        xgb_param = alg.get_xgb_params()\n",
    "        xgtrain = xgb.DMatrix(dtrain[predictors].values, label=dtrain[target].values)\n",
    "        xgtest = xgb.DMatrix(dtest[predictors].values)\n",
    "        cvresult = xgb.cv(xgb_param, xgtrain, num_boost_round=alg.get_params()['n_estimators'], nfold=cv_folds,\n",
    "            metrics='auc', early_stopping_rounds=early_stopping_rounds)\n",
    "        alg.set_params(n_estimators=cvresult.shape[0])\n",
    "    \n",
    "    #Fit the algorithm on the data\n",
    "    alg.fit(dtrain[predictors], dtrain['Outcome'],eval_metric='auc')\n",
    "        \n",
    "    #Predict training set:\n",
    "    dtrain_predictions = alg.predict(dtrain[predictors])\n",
    "    dtrain_predprob = alg.predict_proba(dtrain[predictors])[:,1]\n",
    "        \n",
    "    #Print model report:\n",
    "    print \"\\nModel Report\"\n",
    "    print \"Accuracy : %.4g\" % metrics.accuracy_score(dtrain['Outcome'].values, dtrain_predictions)\n",
    "    print \"AUC Score (Train): %f\" % metrics.roc_auc_score(dtrain['Outcome'], dtrain_predprob)\n",
    "    \n",
    "    #Predict on testing data:\n",
    "    dtest['predprob'] = alg.predict_proba(dtest[predictors])[:,1]\n",
    "    results = test_results.merge(dtest[['Patient_ID','predprob']], on='Patient_ID')\n",
    "    print 'AUC Score (Test): %f' % metrics.roc_auc_score(results['Outcome'], results['predprob'])\n",
    "    \n",
    "    predictions = alg.predict(dtest[predictors])\n",
    "    submission = pd.DataFrame({\n",
    "            \"Patient_ID\": dtest[\"Patient_ID\"],\n",
    "            \"Health_Camp_ID\": dtest[\"Health_Camp_ID\"],\n",
    "            \"Outcome\": predictions\n",
    "        })\n",
    "    submission.to_csv('xgboost.csv',index=False)\n",
    "                \n",
    "    #Plotting features\n",
    "    feat_imp = pd.Series(alg.booster().get_fscore())\n",
    "    feat_imp.plot(kind='bar', title='Feature Importances')\n",
    "    plt.ylabel('Feature Importance Score')\n",
    "\n",
    "    "
   ]
  },
  {
   "cell_type": "code",
   "execution_count": 22,
   "metadata": {
    "collapsed": false
   },
   "outputs": [
    {
     "name": "stdout",
     "output_type": "stream",
     "text": [
      "\n",
      "Model Report\n",
      "Accuracy : 0.7754\n",
      "AUC Score (Train): 0.806152\n",
      "AUC Score (Test): 0.602997\n"
     ]
    },
    {
     "data": {
      "image/png": "[encoded data removed]",
      "text/plain": [
       "<matplotlib.figure.Figure at 0x7fa13b5d1050>"
      ]
     },
     "metadata": {},
     "output_type": "display_data"
    }
   ],
   "source": [
    "xgb1 = XGBClassifier(\n",
    "        learning_rate =0.01,\n",
    "        n_estimators=500,\n",
    "        max_depth=3,\n",
    "        min_child_weight=1,\n",
    "        gamma=0.001,\n",
    "        subsample=0.8,\n",
    "        colsample_bytree=0.8,\n",
    "        objective= 'binary:logistic',\n",
    "        nthread=4,\n",
    "        scale_pos_weight=1,\n",
    "        seed=27)\n",
    "modelfit(xgb1, train_data, test_data, predictors)"
   ]
  },
  {
   "cell_type": "code",
   "execution_count": 23,
   "metadata": {
    "collapsed": false
   },
   "outputs": [
    {
     "name": "stdout",
     "output_type": "stream",
     "text": [
      "\n",
      "Model Report\n",
      "Accuracy : 0.7803\n",
      "AUC Score (Train): 0.815072\n",
      "AUC Score (Test): 0.597628\n"
     ]
    },
    {
     "data": {
      "image/png": "[encoded data removed]",
      "text/plain": [
       "<matplotlib.figure.Figure at 0x7fa13b5a7610>"
      ]
     },
     "metadata": {},
     "output_type": "display_data"
    }
   ],
   "source": [
    "xgb2 = XGBClassifier(\n",
    " learning_rate =0.1,\n",
    " n_estimators=1000,\n",
    " max_depth=4,\n",
    " min_child_weight=6,\n",
    " gamma=0,\n",
    " subsample=0.8,\n",
    " colsample_bytree=0.8,\n",
    " objective= 'binary:logistic',\n",
    " nthread=4,\n",
    " scale_pos_weight=1,\n",
    " seed=27)\n",
    "modelfit(xgb2, train_data, test_data, predictors)"
   ]
  },
  {
   "cell_type": "code",
   "execution_count": null,
   "metadata": {
    "collapsed": false
   },
   "outputs": [
    {
     "name": "stdout",
     "output_type": "stream",
     "text": [
      "\n",
      "Model Report\n",
      "Accuracy : 0.7801\n",
      "AUC Score (Train): 0.814690\n",
      "AUC Score (Test): 0.597873\n"
     ]
    },
    {
     "data": {
      "image/png": "[encoded data removed]",
      "text/plain": [
       "<matplotlib.figure.Figure at 0x7fa13b32a250>"
      ]
     },
     "metadata": {},
     "output_type": "display_data"
    }
   ],
   "source": [
    "xgb2 = XGBClassifier(\n",
    " learning_rate =0.1,\n",
    " n_estimators=1000,\n",
    " max_depth=4,\n",
    " min_child_weight=6,\n",
    " gamma=0.1,\n",
    " subsample=0.8,\n",
    " colsample_bytree=0.8,\n",
    " objective= 'binary:logistic',\n",
    " nthread=4,\n",
    " scale_pos_weight=1,\n",
    " seed=27)\n",
    "modelfit(xgb2, train_data, test_data, predictors)"
   ]
  },
  {
   "cell_type": "code",
   "execution_count": null,
   "metadata": {
    "collapsed": false
   },
   "outputs": [],
   "source": [
    "param_test1 = {\n",
    " 'max_depth':range(1,10,2),\n",
    " 'min_child_weight':range(1,10,2),\n",
    " 'gamma':[i/10.0 for i in range(0,5)]\n",
    "}\n",
    "gsearch1 = GridSearchCV(estimator = XGBClassifier( learning_rate =0.1, n_estimators=140, max_depth=5, \n",
    "                                                  min_child_weight=1, subsample=0.8, colsample_bytree=0.8, \n",
    "                                                  objective= 'binary:logistic', nthread=4, scale_pos_weight=1, \n",
    "                                                  seed=27), \n",
    "                        param_grid = param_test1, scoring='roc_auc',n_jobs=4,iid=False, cv=5)\n",
    "\n",
    "gsearch1.fit(train[predictors],train[target])\n",
    "gsearch1.grid_scores_, gsearch1.best_params_, gsearch1.best_score_"
   ]
  },
  {
   "cell_type": "code",
   "execution_count": null,
   "metadata": {
    "collapsed": true
   },
   "outputs": [],
   "source": []
  },
  {
   "cell_type": "code",
   "execution_count": null,
   "metadata": {
    "collapsed": false
   },
   "outputs": [],
   "source": []
  },
  {
   "cell_type": "code",
   "execution_count": null,
   "metadata": {
    "collapsed": true
   },
   "outputs": [],
   "source": []
  },
  {
   "cell_type": "code",
   "execution_count": null,
   "metadata": {
    "collapsed": true
   },
   "outputs": [],
   "source": []
  }
 ],
 "metadata": {
  "kernelspec": {
   "display_name": "Python 2",
   "language": "python",
   "name": "python2"
  },
  "language_info": {
   "codemirror_mode": {
    "name": "ipython",
    "version": 2
   },
   "file_extension": ".py",
   "mimetype": "text/x-python",
   "name": "python",
   "nbconvert_exporter": "python",
   "pygments_lexer": "ipython2",
   "version": "2.7.6"
  }
 },
 "nbformat": 4,
 "nbformat_minor": 1
}
